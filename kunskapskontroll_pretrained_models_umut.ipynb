{
 "cells": [
  {
   "cell_type": "markdown",
   "id": "6b4f99e1",
   "metadata": {},
   "source": [
    "# Pretrained Models - Kunskapskontroll"
   ]
  },
  {
   "cell_type": "markdown",
   "id": "e5309418-5de6-4343-a72d-43d145c0f163",
   "metadata": {},
   "source": [
    "**Obligatoriskt att fylla i uppgifterna nedan.**\n",
    "\n",
    "Namn: Umut Arslan\n",
    "\n",
    "Vem du har presenterat för: Anita Kongpachith, Anna Strbac\n",
    "\n",
    "Datum då du presenterade: 20240508\n",
    "\n",
    "**Kunskapskontrollen lämnas in på Omniway.**"
   ]
  },
  {
   "cell_type": "markdown",
   "id": "a48e6fe0-efb0-4aa1-bf5d-21201a0f46af",
   "metadata": {},
   "source": [
    "**It is possible to load pretrained models which is a powerful concept.**"
   ]
  },
  {
   "cell_type": "markdown",
   "id": "98b90574",
   "metadata": {},
   "source": [
    "Model implementation: \n",
    "https://keras.io/api/applications/#usage-examples-for-image-classification-models\n",
    "\n",
    "Class list for ResNet50, for example tennis ball is 852:\n",
    "https://deeplearning.cms.waikato.ac.nz/user-guide/class-maps/IMAGENET/"
   ]
  },
  {
   "cell_type": "code",
   "execution_count": 1,
   "id": "fc038c39",
   "metadata": {},
   "outputs": [],
   "source": [
    "from tensorflow.keras.applications.resnet50 import ResNet50\n",
    "from tensorflow.keras.preprocessing import image\n",
    "from tensorflow.keras.applications.resnet50 import preprocess_input, decode_predictions\n",
    "import numpy as np"
   ]
  },
  {
   "cell_type": "code",
   "execution_count": 2,
   "id": "6f3c1e7f",
   "metadata": {},
   "outputs": [],
   "source": [
    "model = ResNet50(weights='imagenet')"
   ]
  },
  {
   "cell_type": "code",
   "execution_count": 3,
   "id": "620f8050",
   "metadata": {},
   "outputs": [
    {
     "ename": "NameError",
     "evalue": "name 'img_path' is not defined",
     "output_type": "error",
     "traceback": [
      "\u001b[1;31m---------------------------------------------------------------------------\u001b[0m",
      "\u001b[1;31mNameError\u001b[0m                                 Traceback (most recent call last)",
      "Cell \u001b[1;32mIn[3], line 7\u001b[0m\n\u001b[0;32m      1\u001b[0m \u001b[38;5;66;03m#img_path = 'cock.jpg'\u001b[39;00m\n\u001b[0;32m      2\u001b[0m \u001b[38;5;66;03m#img_path = 'magpie.jpg' \u001b[39;00m\n\u001b[0;32m      3\u001b[0m \u001b[38;5;66;03m#img_path = 'quail.jpg'\u001b[39;00m\n\u001b[0;32m      4\u001b[0m \u001b[38;5;66;03m#img_path = 'rapper.jpg'\u001b[39;00m\n\u001b[0;32m      5\u001b[0m \u001b[38;5;66;03m#img_path = 'hermitcrab.jpg'\u001b[39;00m\n\u001b[1;32m----> 7\u001b[0m img \u001b[38;5;241m=\u001b[39m image\u001b[38;5;241m.\u001b[39mload_img(img_path, target_size\u001b[38;5;241m=\u001b[39m(\u001b[38;5;241m224\u001b[39m, \u001b[38;5;241m224\u001b[39m))\n\u001b[0;32m      8\u001b[0m img\n",
      "\u001b[1;31mNameError\u001b[0m: name 'img_path' is not defined"
     ]
    }
   ],
   "source": [
    "#img_path = 'cock.jpg'\n",
    "#img_path = 'magpie.jpg' \n",
    "#img_path = 'quail.jpg'\n",
    "#img_path = 'rapper.jpg'\n",
    "#img_path = 'hermitcrab.jpg'\n",
    "\n",
    "img = image.load_img(img_path, target_size=(224, 224))\n",
    "img"
   ]
  },
  {
   "cell_type": "code",
   "execution_count": null,
   "id": "d699b0c8",
   "metadata": {},
   "outputs": [],
   "source": [
    "x = image.img_to_array(img)\n",
    "x.shape"
   ]
  },
  {
   "cell_type": "code",
   "execution_count": null,
   "id": "623238c2",
   "metadata": {
    "scrolled": true
   },
   "outputs": [],
   "source": [
    "x = np.expand_dims(x, axis=0)\n",
    "x.shape"
   ]
  },
  {
   "cell_type": "code",
   "execution_count": null,
   "id": "4bf38543",
   "metadata": {},
   "outputs": [],
   "source": [
    "# https://www.tensorflow.org/api_docs/python/tf/keras/applications/resnet50/preprocess_input\n",
    "x = preprocess_input(x)"
   ]
  },
  {
   "cell_type": "code",
   "execution_count": null,
   "id": "c5cc0056",
   "metadata": {},
   "outputs": [],
   "source": [
    "x.shape"
   ]
  },
  {
   "cell_type": "code",
   "execution_count": null,
   "id": "d89f33d9",
   "metadata": {},
   "outputs": [],
   "source": [
    "preds = model.predict(x)\n",
    "# decode the results into a list of tuples (class, description, probability)\n",
    "# (one such list for each sample in the batch)\n",
    "print('Predicted:', decode_predictions(preds, top=3)[0])\n",
    "# Predicted: [(u'n02504013', u'Indian_elephant', 0.82658225), (u'n01871265', u'tusker', 0.1122357), (u'n02504458', u'African_elephant', 0.061040461)]"
   ]
  },
  {
   "cell_type": "markdown",
   "id": "cc00d598",
   "metadata": {},
   "source": [
    "# 1. Take some pictures yourself and predict their class."
   ]
  },
  {
   "cell_type": "code",
   "execution_count": 14,
   "id": "ac7a2c10-2229-452e-94d6-64e5c36684bb",
   "metadata": {},
   "outputs": [],
   "source": [
    "mejse = 'mejsel.jpg'\n",
    "mejse2 = 'mejsel2.jpg'\n",
    "mejse3 = 'mejsel3.jpg'\n",
    "mejse4 = 'mejsel4.jpg'\n",
    "\n",
    "img_mejse = image.load_img(mejse, target_size=(224, 224))\n",
    "img_mejse2 = image.load_img(mejse2, target_size=(224, 224))\n",
    "img_mejse3 = image.load_img(mejse3, target_size=(224, 224))\n",
    "img_mejse4 = image.load_img(mejse4, target_size=(224, 224))\n",
    "\n",
    "\n",
    "linjal1 = 'linjal1.jpg'\n",
    "linjal2 = 'linjal2.jpg'\n",
    "linjal3 = 'linjal3.jpg'\n",
    "\n",
    "img_linjal = image.load_img(linjal1, target_size=(224, 224))\n",
    "img_linjal2 = image.load_img(linjal2, target_size=(224, 224))\n",
    "img_linjal3 = image.load_img(linjal3, target_size=(224, 224))"
   ]
  },
  {
   "cell_type": "code",
   "execution_count": 47,
   "id": "514785a4",
   "metadata": {},
   "outputs": [
    {
     "data": {
      "text/plain": [
       "'mejsel.jpg'"
      ]
     },
     "execution_count": 47,
     "metadata": {},
     "output_type": "execute_result"
    }
   ],
   "source": [
    "img_mejse\n",
    "img_mejse2\n",
    "img_mejse3\n",
    "img_mejse4\n",
    "\n",
    "img_linjal\n",
    "img_linjal2\n",
    "img_linjal3"
   ]
  },
  {
   "cell_type": "code",
   "execution_count": 15,
   "id": "54d0d22c",
   "metadata": {},
   "outputs": [],
   "source": [
    "x_mejse1 = image.img_to_array(img_mejse)\n",
    "x_mejse2 = image.img_to_array(img_mejse2)\n",
    "x_mejse3 = image.img_to_array(img_mejse3)\n",
    "x_mejse4 = image.img_to_array(img_mejse4)\n",
    "\n",
    "x_linjal = image.img_to_array(img_linjal)\n",
    "x_linjal2 = image.img_to_array(img_linjal2)\n",
    "x_linjal3 = image.img_to_array(img_linjal3)\n",
    "\n",
    "\n",
    "#x.shape"
   ]
  },
  {
   "cell_type": "code",
   "execution_count": 16,
   "id": "e365242a",
   "metadata": {},
   "outputs": [],
   "source": [
    "x_mejse1 = np.expand_dims(x_mejse1, axis=0)\n",
    "x_mejse2 = np.expand_dims(x_mejse2, axis=0)\n",
    "x_mejse3 = np.expand_dims(x_mejse3, axis=0)\n",
    "x_mejse4 = np.expand_dims(x_mejse4, axis=0)\n",
    "\n",
    "\n",
    "x_linjal = np.expand_dims(x_linjal, axis=0)\n",
    "x_linjal2 = np.expand_dims(x_linjal2, axis=0)\n",
    "x_linjal3 = np.expand_dims(x_linjal3, axis=0)\n",
    "\n",
    "\n",
    "\n",
    "\n",
    "\n"
   ]
  },
  {
   "cell_type": "code",
   "execution_count": 17,
   "id": "fd01c5f8",
   "metadata": {},
   "outputs": [],
   "source": [
    "# https://www.tensorflow.org/api_docs/python/tf/keras/applications/resnet50/preprocess_input\n",
    "x_mejse1 = preprocess_input(x_mejse1)\n",
    "x_mejse2 = preprocess_input(x_mejse2)\n",
    "x_mejse3 = preprocess_input(x_mejse3)\n",
    "x_mejse4 = preprocess_input(x_mejse4)\n",
    "\n",
    "x_linjal = preprocess_input(x_linjal)\n",
    "x_linjal2 = preprocess_input(x_linjal2)\n",
    "x_linjal3 = preprocess_input(x_linjal3)\n",
    "\n",
    "\n",
    "\n"
   ]
  },
  {
   "cell_type": "code",
   "execution_count": 32,
   "id": "91005ce7",
   "metadata": {},
   "outputs": [
    {
     "name": "stdout",
     "output_type": "stream",
     "text": [
      "\u001b[1m1/1\u001b[0m \u001b[32m━━━━━━━━━━━━━━━━━━━━\u001b[0m\u001b[37m\u001b[0m \u001b[1m0s\u001b[0m 60ms/step\n",
      "\u001b[1m1/1\u001b[0m \u001b[32m━━━━━━━━━━━━━━━━━━━━\u001b[0m\u001b[37m\u001b[0m \u001b[1m0s\u001b[0m 60ms/step\n",
      "\u001b[1m1/1\u001b[0m \u001b[32m━━━━━━━━━━━━━━━━━━━━\u001b[0m\u001b[37m\u001b[0m \u001b[1m0s\u001b[0m 59ms/step\n",
      "\u001b[1m1/1\u001b[0m \u001b[32m━━━━━━━━━━━━━━━━━━━━\u001b[0m\u001b[37m\u001b[0m \u001b[1m0s\u001b[0m 59ms/step\n",
      "\u001b[1m1/1\u001b[0m \u001b[32m━━━━━━━━━━━━━━━━━━━━\u001b[0m\u001b[37m\u001b[0m \u001b[1m0s\u001b[0m 58ms/step\n",
      "\u001b[1m1/1\u001b[0m \u001b[32m━━━━━━━━━━━━━━━━━━━━\u001b[0m\u001b[37m\u001b[0m \u001b[1m0s\u001b[0m 58ms/step\n",
      "\u001b[1m1/1\u001b[0m \u001b[32m━━━━━━━━━━━━━━━━━━━━\u001b[0m\u001b[37m\u001b[0m \u001b[1m0s\u001b[0m 59ms/step\n"
     ]
    }
   ],
   "source": [
    "pred_x_mejse1 = model.predict(x_mejse1)\n",
    "pred_x_mejse2 = model.predict(x_mejse2)\n",
    "pred_x_mejse3 = model.predict(x_mejse3)\n",
    "pred_x_mejse4 = model.predict(x_mejse4)\n",
    "\n",
    "pred_x_linjal = model.predict(x_linjal)\n",
    "pred_x_linjal2 = model.predict(x_linjal2)\n",
    "pred_x_linjal3 = model.predict(x_linjal3)\n",
    "\n",
    "\n",
    "\n",
    "\n",
    "# decode the results into a list of tuples (class, description, probability)\n",
    "# (one such list for each sample in the batch)\n",
    "pred_result_x_mejse1 = (decode_predictions(pred_x_mejse1, top=1)[0])\n",
    "pred_result_x_mejse2 = (decode_predictions(pred_x_mejse2, top=1)[0])\n",
    "pred_result_x_mejse3 = (decode_predictions(pred_x_mejse3, top=1)[0])\n",
    "pred_result_x_mejse4 = (decode_predictions(pred_x_mejse4, top=1)[0])\n",
    "\n",
    "pred_result_x_linjal = (decode_predictions(pred_x_linjal, top=1)[0])\n",
    "pred_result_x_linjal2 = (decode_predictions(pred_x_linjal2, top=1)[0])\n",
    "pred_result_x_linjal3 = (decode_predictions(pred_x_linjal3, top=1)[0])"
   ]
  },
  {
   "cell_type": "code",
   "execution_count": 41,
   "id": "3b0fdbf6",
   "metadata": {},
   "outputs": [
    {
     "data": {
      "text/plain": [
       "[[('n04376876', 'syringe', 0.92111516)],\n",
       " [('n04154565', 'screwdriver', 0.99784756)],\n",
       " [('n04154565', 'screwdriver', 0.9641419)],\n",
       " [('n04154565', 'screwdriver', 0.951596)]]"
      ]
     },
     "execution_count": 41,
     "metadata": {},
     "output_type": "execute_result"
    }
   ],
   "source": [
    "pred_skruvmejsel_bilder = [pred_result_x_mejse1, pred_result_x_mejse2, pred_result_x_mejse3, pred_result_x_mejse4]\n",
    "pred_linjal_bilder = [pred_result_x_linjal, pred_result_x_linjal2, pred_result_x_linjal3]\n",
    "\n",
    "#type(asdfg)\n",
    "pred_skruvmejsel_bilder"
   ]
  },
  {
   "cell_type": "code",
   "execution_count": 44,
   "id": "0401db8d",
   "metadata": {},
   "outputs": [
    {
     "name": "stdout",
     "output_type": "stream",
     "text": [
      "Skruvmejsel1 [('n04376876', 'syringe', 0.92111516)]\n",
      "Skruvmejsel2 [('n04154565', 'screwdriver', 0.99784756)]\n",
      "Skruvmejsel3 [('n04154565', 'screwdriver', 0.9641419)]\n",
      "Skruvmejsel4 [('n04154565', 'screwdriver', 0.951596)]\n",
      "Linjal1 [('n03804744', 'nail', 0.23866527)]\n",
      "Linjal2 [('n03127925', 'crate', 0.4444098)]\n",
      "Linjal3 [('n03388549', 'four-poster', 0.18341322)]\n"
     ]
    }
   ],
   "source": [
    "for i, pred_result in enumerate(pred_skruvmejsel_bilder, start=1):\n",
    "    print(f'Skruvmejsel{i} {pred_result}')\n",
    "    \n",
    "    \n",
    "for i, pred_result in enumerate(pred_linjal_bilder, start=1):\n",
    "    print(f'Linjal{i} {pred_result}')"
   ]
  },
  {
   "cell_type": "code",
   "execution_count": null,
   "id": "419153db",
   "metadata": {},
   "outputs": [],
   "source": []
  },
  {
   "cell_type": "markdown",
   "id": "eafcd7f8-406a-462c-9601-02ba78c5e29f",
   "metadata": {},
   "source": [
    "# 2. Answer the question: Why is \"Pretrained models\" a very powerful concept?"
   ]
  },
  {
   "cell_type": "code",
   "execution_count": null,
   "id": "4321b3d6",
   "metadata": {},
   "outputs": [],
   "source": [
    "#Sparar en massa tid, slipper ta reda på miljontals lables etc....\n",
    "#Effektiviteten ökar i ditt \"bolag\" eftersom man slipper lära en modell alla dessa lables.\n"
   ]
  },
  {
   "cell_type": "code",
   "execution_count": null,
   "id": "b38580b6",
   "metadata": {},
   "outputs": [],
   "source": []
  }
 ],
 "metadata": {
  "kernelspec": {
   "display_name": "Python 3 (ipykernel)",
   "language": "python",
   "name": "python3"
  },
  "language_info": {
   "codemirror_mode": {
    "name": "ipython",
    "version": 3
   },
   "file_extension": ".py",
   "mimetype": "text/x-python",
   "name": "python",
   "nbconvert_exporter": "python",
   "pygments_lexer": "ipython3",
   "version": "3.11.4"
  }
 },
 "nbformat": 4,
 "nbformat_minor": 5
}
